{
  "nbformat": 4,
  "nbformat_minor": 0,
  "metadata": {
    "colab": {
      "provenance": [],
      "include_colab_link": true
    },
    "kernelspec": {
      "name": "python3",
      "display_name": "Python 3"
    },
    "language_info": {
      "name": "python"
    }
  },
  "cells": [
    {
      "cell_type": "markdown",
      "metadata": {
        "id": "view-in-github",
        "colab_type": "text"
      },
      "source": [
        "<a href=\"https://colab.research.google.com/github/shiehn/rune_notebooks/blob/main/openapi_game_engine_image.ipynb\" target=\"_parent\"><img src=\"https://colab.research.google.com/assets/colab-badge.svg\" alt=\"Open In Colab\"/></a>"
      ]
    },
    {
      "cell_type": "code",
      "execution_count": null,
      "metadata": {
        "id": "vEkKUTeYeI2V",
        "colab": {
          "base_uri": "https://localhost:8080/",
          "height": 321
        },
        "outputId": "8523f0ef-c75d-4146-a088-b0877396e245"
      },
      "outputs": [
        {
          "output_type": "error",
          "ename": "KeyboardInterrupt",
          "evalue": "",
          "traceback": [
            "\u001b[0;31m---------------------------------------------------------------------------\u001b[0m",
            "\u001b[0;31mKeyboardInterrupt\u001b[0m                         Traceback (most recent call last)",
            "\u001b[0;32m<ipython-input-6-96584953606c>\u001b[0m in \u001b[0;36m<cell line: 101>\u001b[0;34m()\u001b[0m\n\u001b[1;32m     99\u001b[0m \u001b[0mrunes\u001b[0m\u001b[0;34m.\u001b[0m\u001b[0mregister_method\u001b[0m\u001b[0;34m(\u001b[0m\u001b[0mrunes_func\u001b[0m\u001b[0;34m)\u001b[0m\u001b[0;34m\u001b[0m\u001b[0;34m\u001b[0m\u001b[0m\n\u001b[1;32m    100\u001b[0m \u001b[0;34m\u001b[0m\u001b[0m\n\u001b[0;32m--> 101\u001b[0;31m \u001b[0mrunes\u001b[0m\u001b[0;34m.\u001b[0m\u001b[0mconnect_to_server\u001b[0m\u001b[0;34m(\u001b[0m\u001b[0;34m)\u001b[0m\u001b[0;34m\u001b[0m\u001b[0;34m\u001b[0m\u001b[0m\n\u001b[0m",
            "\u001b[0;32m/usr/local/lib/python3.10/dist-packages/runes_client/core.py\u001b[0m in \u001b[0;36mconnect_to_server\u001b[0;34m()\u001b[0m\n\u001b[1;32m   1005\u001b[0m     \u001b[0;32mtry\u001b[0m\u001b[0;34m:\u001b[0m\u001b[0;34m\u001b[0m\u001b[0;34m\u001b[0m\u001b[0m\n\u001b[1;32m   1006\u001b[0m         \u001b[0;31m# Run the async main function within the event loop\u001b[0m\u001b[0;34m\u001b[0m\u001b[0;34m\u001b[0m\u001b[0m\n\u001b[0;32m-> 1007\u001b[0;31m         \u001b[0mloop\u001b[0m\u001b[0;34m.\u001b[0m\u001b[0mrun_until_complete\u001b[0m\u001b[0;34m(\u001b[0m\u001b[0masync_main\u001b[0m\u001b[0;34m(\u001b[0m\u001b[0;34m)\u001b[0m\u001b[0;34m)\u001b[0m\u001b[0;34m\u001b[0m\u001b[0;34m\u001b[0m\u001b[0m\n\u001b[0m\u001b[1;32m   1008\u001b[0m     \u001b[0;32mfinally\u001b[0m\u001b[0;34m:\u001b[0m\u001b[0;34m\u001b[0m\u001b[0;34m\u001b[0m\u001b[0m\n\u001b[1;32m   1009\u001b[0m         \u001b[0;31m# Close the loop when done\u001b[0m\u001b[0;34m\u001b[0m\u001b[0;34m\u001b[0m\u001b[0m\n",
            "\u001b[0;32m/usr/local/lib/python3.10/dist-packages/nest_asyncio.py\u001b[0m in \u001b[0;36mrun_until_complete\u001b[0;34m(self, future)\u001b[0m\n\u001b[1;32m     90\u001b[0m                 \u001b[0mf\u001b[0m\u001b[0;34m.\u001b[0m\u001b[0m_log_destroy_pending\u001b[0m \u001b[0;34m=\u001b[0m \u001b[0;32mFalse\u001b[0m\u001b[0;34m\u001b[0m\u001b[0;34m\u001b[0m\u001b[0m\n\u001b[1;32m     91\u001b[0m             \u001b[0;32mwhile\u001b[0m \u001b[0;32mnot\u001b[0m \u001b[0mf\u001b[0m\u001b[0;34m.\u001b[0m\u001b[0mdone\u001b[0m\u001b[0;34m(\u001b[0m\u001b[0;34m)\u001b[0m\u001b[0;34m:\u001b[0m\u001b[0;34m\u001b[0m\u001b[0;34m\u001b[0m\u001b[0m\n\u001b[0;32m---> 92\u001b[0;31m                 \u001b[0mself\u001b[0m\u001b[0;34m.\u001b[0m\u001b[0m_run_once\u001b[0m\u001b[0;34m(\u001b[0m\u001b[0;34m)\u001b[0m\u001b[0;34m\u001b[0m\u001b[0;34m\u001b[0m\u001b[0m\n\u001b[0m\u001b[1;32m     93\u001b[0m                 \u001b[0;32mif\u001b[0m \u001b[0mself\u001b[0m\u001b[0;34m.\u001b[0m\u001b[0m_stopping\u001b[0m\u001b[0;34m:\u001b[0m\u001b[0;34m\u001b[0m\u001b[0;34m\u001b[0m\u001b[0m\n\u001b[1;32m     94\u001b[0m                     \u001b[0;32mbreak\u001b[0m\u001b[0;34m\u001b[0m\u001b[0;34m\u001b[0m\u001b[0m\n",
            "\u001b[0;32m/usr/local/lib/python3.10/dist-packages/nest_asyncio.py\u001b[0m in \u001b[0;36m_run_once\u001b[0;34m(self)\u001b[0m\n\u001b[1;32m    113\u001b[0m                 scheduled[0]._when - self.time(), 0), 86400) if scheduled\n\u001b[1;32m    114\u001b[0m             else None)\n\u001b[0;32m--> 115\u001b[0;31m         \u001b[0mevent_list\u001b[0m \u001b[0;34m=\u001b[0m \u001b[0mself\u001b[0m\u001b[0;34m.\u001b[0m\u001b[0m_selector\u001b[0m\u001b[0;34m.\u001b[0m\u001b[0mselect\u001b[0m\u001b[0;34m(\u001b[0m\u001b[0mtimeout\u001b[0m\u001b[0;34m)\u001b[0m\u001b[0;34m\u001b[0m\u001b[0;34m\u001b[0m\u001b[0m\n\u001b[0m\u001b[1;32m    116\u001b[0m         \u001b[0mself\u001b[0m\u001b[0;34m.\u001b[0m\u001b[0m_process_events\u001b[0m\u001b[0;34m(\u001b[0m\u001b[0mevent_list\u001b[0m\u001b[0;34m)\u001b[0m\u001b[0;34m\u001b[0m\u001b[0;34m\u001b[0m\u001b[0m\n\u001b[1;32m    117\u001b[0m \u001b[0;34m\u001b[0m\u001b[0m\n",
            "\u001b[0;32m/usr/lib/python3.10/selectors.py\u001b[0m in \u001b[0;36mselect\u001b[0;34m(self, timeout)\u001b[0m\n\u001b[1;32m    467\u001b[0m             \u001b[0mready\u001b[0m \u001b[0;34m=\u001b[0m \u001b[0;34m[\u001b[0m\u001b[0;34m]\u001b[0m\u001b[0;34m\u001b[0m\u001b[0;34m\u001b[0m\u001b[0m\n\u001b[1;32m    468\u001b[0m             \u001b[0;32mtry\u001b[0m\u001b[0;34m:\u001b[0m\u001b[0;34m\u001b[0m\u001b[0;34m\u001b[0m\u001b[0m\n\u001b[0;32m--> 469\u001b[0;31m                 \u001b[0mfd_event_list\u001b[0m \u001b[0;34m=\u001b[0m \u001b[0mself\u001b[0m\u001b[0;34m.\u001b[0m\u001b[0m_selector\u001b[0m\u001b[0;34m.\u001b[0m\u001b[0mpoll\u001b[0m\u001b[0;34m(\u001b[0m\u001b[0mtimeout\u001b[0m\u001b[0;34m,\u001b[0m \u001b[0mmax_ev\u001b[0m\u001b[0;34m)\u001b[0m\u001b[0;34m\u001b[0m\u001b[0;34m\u001b[0m\u001b[0m\n\u001b[0m\u001b[1;32m    470\u001b[0m             \u001b[0;32mexcept\u001b[0m \u001b[0mInterruptedError\u001b[0m\u001b[0;34m:\u001b[0m\u001b[0;34m\u001b[0m\u001b[0;34m\u001b[0m\u001b[0m\n\u001b[1;32m    471\u001b[0m                 \u001b[0;32mreturn\u001b[0m \u001b[0mready\u001b[0m\u001b[0;34m\u001b[0m\u001b[0;34m\u001b[0m\u001b[0m\n",
            "\u001b[0;31mKeyboardInterrupt\u001b[0m: "
          ]
        }
      ],
      "source": [
        "import os\n",
        "\n",
        "# Check if ffmpeg is installed, if not then install it\n",
        "ffmpeg_installed = !command -v ffmpeg\n",
        "if not ffmpeg_installed:\n",
        "    !apt-get install ffmpeg\n",
        "\n",
        "#Check if runes-client is installed, if not then install it\n",
        "try:\n",
        "    import runes_client\n",
        "except ImportError:\n",
        "    !pip install runes-client\n",
        "    import runes_client\n",
        "\n",
        "try:\n",
        "    import runes_client\n",
        "except ImportError:\n",
        "  !pip install runes-client --upgrade\n",
        "\n",
        "\n",
        "import runes_client.core as runes\n",
        "from runes_client import RunesFilePath\n",
        "\n",
        "placeholder_txt = \"Enter the token generated by the Crucible plugin\"\n",
        "RUNES_TOKEN = \"065955e9-6c31-40ca-be75-e731caa9ffe2\" #@param {type:\"string\"}\n",
        "runes_token = RUNES_TOKEN\n",
        "\n",
        "dn_cli_token = os.getenv('DN_CLI_TOKEN', None)\n",
        "if dn_cli_token is not None and dn_cli_token != \"\":\n",
        "  runes_token = dn_cli_token\n",
        "else:\n",
        "  if runes_token is None or runes_token == \"\" or runes_token == placeholder_txt:\n",
        "      print(\"ERROR: The token provided is not valid.\")\n",
        "      exit()\n",
        "\n",
        "OPENAI_API_KEY = \"xxxx\" #@param {type:\"string\"}\n",
        "os.environ[\"OPENAI_API_KEY\"] = OPENAI_API_KEY\n",
        "\n",
        "if os.getenv('OPENAI_API_KEY', None) is None or os.getenv('OPENAI_API_KEY', None) == \"\":\n",
        "  print(\"ERROR: The OpenAI API key is not valid.\")\n",
        "  exit()\n",
        "\n",
        "# There are two separate function you need to register.\n",
        "# 1. The imports.  This is where you load any libraries you need to use in your RUNE.  This is important so that the RUNE is aware when dependencies are loaded and its ready to be called from the plugin.\n",
        "# 2. The method.  This is the primary function of the RUNE.  This is where you write the code that will be executed when the RUNE is triggered.\n",
        "\n",
        "# Name the function anything you like.  This is the imports function.  This is where you load any libraries you need to use in your RUNE.\n",
        "async def register_imports():\n",
        "\n",
        "    # Clone the GitHub repository\n",
        "    !git clone https://github.com/shiehn/llm_mud.git\n",
        "\n",
        "    # Change directory to the cloned repo\n",
        "    %cd llm_mud\n",
        "\n",
        "    # Install required dependencies\n",
        "    !pip install -r requirements.txt\n",
        "\n",
        "    # Import the refactored RPGChat class\n",
        "    from app import RPGChat\n",
        "\n",
        "    # Create an instance of the RPGChat class\n",
        "    global rpg_chat\n",
        "    rpg_chat = RPGChat()\n",
        "\n",
        "    #runes.make_imports_global([])\n",
        "\n",
        "\n",
        "# Now register the imports function with the discovery server.\n",
        "runes.register_imports(register_imports)\n",
        "\n",
        "async def runes_func(user_question: str):\n",
        "    try:\n",
        "\n",
        "        user_question += \" environment_id=def\"\n",
        "\n",
        "        print(\"HUMAN:\", user_question)\n",
        "        # Send a question to the RPG system and get the response\n",
        "        response = rpg_chat.ask_question(user_question)\n",
        "\n",
        "        print(\"BOT:\", response)\n",
        "\n",
        "        # after executing your custom code you send data back to the plugin like so ..\n",
        "        #await runes.output().add_file(input_file)\n",
        "        await runes.output().add_message(response)\n",
        "        await runes.output().add_log(response)\n",
        "        await runes.output().send()\n",
        "\n",
        "        return True\n",
        "    except Exception as e:\n",
        "        await runes.output().add_error(f\"Error in arbitrary_method: {e}\")\n",
        "\n",
        "        return False\n",
        "\n",
        "\n",
        "runes.set_token(token=runes_token)\n",
        "runes.set_name(\"OpenAPI Chat Engine\")\n",
        "runes.set_description(\"This is an game chat engine powered by OpenAPI\")\n",
        "runes.register_method(runes_func)\n",
        "\n",
        "runes.connect_to_server()"
      ]
    }
  ]
}